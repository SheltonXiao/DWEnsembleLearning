{
 "cells": [
  {
   "cell_type": "markdown",
   "metadata": {},
   "source": [
    "# 1 数学基础\n",
    "author：SheltonXiao"
   ]
  },
  {
   "cell_type": "markdown",
   "metadata": {},
   "source": [
    "## 1.1 绘制函数图像"
   ]
  },
  {
   "cell_type": "code",
   "execution_count": 6,
   "metadata": {},
   "outputs": [],
   "source": [
    "import pandas as pd\n",
    "import numpy as np"
   ]
  },
  {
   "cell_type": "code",
   "execution_count": 7,
   "metadata": {},
   "outputs": [],
   "source": [
    "import matplotlib.pyplot as plt"
   ]
  },
  {
   "cell_type": "code",
   "execution_count": 8,
   "metadata": {},
   "outputs": [],
   "source": [
    "from tqdm import trange"
   ]
  },
  {
   "cell_type": "code",
   "execution_count": 9,
   "metadata": {},
   "outputs": [],
   "source": [
    "def plotpic_save(a,b):\n",
    "    x1 = np.arange(-5,5,0.01)[np.newaxis,:]\n",
    "    x2 = np.arange(-5,5,0.01)[:,np.newaxis]\n",
    "    z = (a-x1)**2+b*(x2-x1**2)**2\n",
    "    \n",
    "    fig = plt.figure()\n",
    "    ax = plt.axes(projection='3d')\n",
    "    ax.plot_surface(x1,x2,z,cmap='rainbow',alpha=0.7)\n",
    "    \n",
    "    plt.savefig(\"pic/\"+str(a)+\"_\"+str(b)+\".png\")\n",
    "    plt.close()"
   ]
  },
  {
   "cell_type": "code",
   "execution_count": 11,
   "metadata": {},
   "outputs": [
    {
     "name": "stderr",
     "output_type": "stream",
     "text": [
      "100%|██████████| 400/400 [02:13<00:00,  3.01it/s]\n"
     ]
    }
   ],
   "source": [
    "A = np.arange(-1000,1000,100)\n",
    "B = np.arange(-1000,1000,100)\n",
    "i,j = np.meshgrid(A,B)\n",
    "i = i.flatten()\n",
    "j = j.flatten()\n",
    "for u in trange(len(i)):\n",
    "    plotpic_save(i[u],j[u])"
   ]
  },
  {
   "cell_type": "markdown",
   "metadata": {},
   "source": [
    "## 1.2 求最优解"
   ]
  },
  {
   "cell_type": "code",
   "execution_count": 53,
   "metadata": {},
   "outputs": [],
   "source": [
    "def plotpic(a,b,W):\n",
    "    x1 = np.arange(-5,5,0.01)[np.newaxis,:]\n",
    "    x2 = np.arange(-5,5,0.01)[:,np.newaxis]\n",
    "    z = (a-x1)**2+b*(x2-x1**2)**2\n",
    "    \n",
    "    fig = plt.figure()\n",
    "    ax = plt.axes(projection='3d')\n",
    "    ax.plot_surface(x1,x2,z,cmap='rainbow',alpha=0.7)\n",
    "    \n",
    "    Z = (a-W[0])**2+b*(W[1]-W[0]**2)**2\n",
    "    ax.plot3d(W[0],W[1],Z,\"-o\")"
   ]
  },
  {
   "cell_type": "code",
   "execution_count": 44,
   "metadata": {},
   "outputs": [],
   "source": [
    "a = 1\n",
    "b = 100"
   ]
  },
  {
   "cell_type": "code",
   "execution_count": 13,
   "metadata": {},
   "outputs": [],
   "source": [
    "def rosenbrock(x):\n",
    "    return (a-x[0])**2+b*(x[1]-x[0]**2)**2"
   ]
  },
  {
   "cell_type": "markdown",
   "metadata": {},
   "source": [
    "常用的函数"
   ]
  },
  {
   "cell_type": "code",
   "execution_count": 18,
   "metadata": {},
   "outputs": [],
   "source": [
    "def diff(f, x, delta=1e-4):\n",
    "    out = []\n",
    "    out.append((f([x[0]+delta,x[1]]) - f([x[0]-delta,x[1]])) / (2 * delta))\n",
    "    out.append((f([x[0],x[1]+delta]) - f([x[0],x[1]-delta])) / (2 * delta))\n",
    "    return out"
   ]
  },
  {
   "cell_type": "code",
   "execution_count": 49,
   "metadata": {},
   "outputs": [
    {
     "data": {
      "text/plain": [
       "[-1599.999995997905, 799.9999999981355]"
      ]
     },
     "execution_count": 49,
     "metadata": {},
     "output_type": "execute_result"
    }
   ],
   "source": [
    "x = [1,5]\n",
    "diff(rosenbrock,x)"
   ]
  },
  {
   "cell_type": "markdown",
   "metadata": {},
   "source": [
    "直接写出导数"
   ]
  },
  {
   "cell_type": "code",
   "execution_count": 23,
   "metadata": {},
   "outputs": [],
   "source": [
    "def jacobian(x):\n",
    "    return np.array([-4*b*x[0]*(x[1]-x[0]**2)-2*(a-x[0]),2*b*(x[1]-x[0]**2)])"
   ]
  },
  {
   "cell_type": "code",
   "execution_count": 46,
   "metadata": {},
   "outputs": [
    {
     "data": {
      "text/plain": [
       "array([0, 0])"
      ]
     },
     "execution_count": 46,
     "metadata": {},
     "output_type": "execute_result"
    }
   ],
   "source": [
    "jacobian(x)"
   ]
  },
  {
   "cell_type": "markdown",
   "metadata": {},
   "source": [
    "### 1.2.1 最速下降法"
   ]
  },
  {
   "cell_type": "markdown",
   "metadata": {},
   "source": [
    "先定义搜索函数，根据goldstein准则"
   ]
  },
  {
   "cell_type": "code",
   "execution_count": 26,
   "metadata": {},
   "outputs": [],
   "source": [
    "import random\n",
    " \n",
    "def goldsteinsearch(f,df,d,x,alpham,rho,t): \n",
    "    flag=0\n",
    " \n",
    "    a=0\n",
    "    b=alpham\n",
    "    fk=f(x)\n",
    "    gk=df(x)\n",
    " \n",
    "    phi0=fk\n",
    "    dphi0=np.dot(gk,d)\n",
    " \n",
    "    alpha=b*random.uniform(0,1)\n",
    " \n",
    "    while(flag==0):\n",
    "        newfk=f(x+alpha*d)\n",
    "        phi=newfk\n",
    "        if(phi-phi0<=rho*alpha*dphi0):\n",
    "            if(phi-phi0>=(1-rho)*alpha*dphi0):\n",
    "                flag=1\n",
    "            else:\n",
    "                a=alpha\n",
    "                b=b\n",
    "                if(b<alpham):\n",
    "                    alpha=(a+b)/2\n",
    "                else:\n",
    "                    alpha=t*alpha\n",
    "        else:\n",
    "            a=a\n",
    "            b=alpha\n",
    "            alpha=(a+b)/2\n",
    "    return alpha"
   ]
  },
  {
   "cell_type": "markdown",
   "metadata": {},
   "source": [
    "主函数"
   ]
  },
  {
   "cell_type": "code",
   "execution_count": 29,
   "metadata": {},
   "outputs": [],
   "source": [
    "def steepest(x0): \n",
    "    imax = 20000\n",
    "    W=np.zeros((2,imax))\n",
    "    W[:,0] = x0\n",
    "    x = x0\n",
    "    grad = jacobian(x)\n",
    "    delta = sum(grad**2) # initial error\n",
    " \n",
    " \n",
    "    for i in trange(1,imax):\n",
    "        p = -jacobian(x)\n",
    "        x0=x\n",
    "        alpha = goldsteinsearch(rosenbrock,jacobian,p,x,1,0.1,2)\n",
    "        x = x + alpha*p\n",
    "        W[:,i] = x\n",
    "        grad = jacobian(x)\n",
    "        delta = sum(grad**2)\n",
    "        if delta<=10**(-5):\n",
    "            break\n",
    " \n",
    "\n",
    "    W=W[:,0:i+1] # 记录迭代点\n",
    "    return W"
   ]
  },
  {
   "cell_type": "code",
   "execution_count": 50,
   "metadata": {},
   "outputs": [
    {
     "name": "stderr",
     "output_type": "stream",
     "text": [
      " 16%|█▌        | 3148/19999 [00:00<00:00, 19499.49it/s]\n"
     ]
    }
   ],
   "source": [
    "W = steepest(x)"
   ]
  },
  {
   "cell_type": "code",
   "execution_count": 51,
   "metadata": {},
   "outputs": [
    {
     "data": {
      "text/plain": [
       "array([1.0033618 , 1.00675035])"
      ]
     },
     "execution_count": 51,
     "metadata": {},
     "output_type": "execute_result"
    }
   ],
   "source": [
    "W[:,-1]"
   ]
  },
  {
   "cell_type": "code",
   "execution_count": 55,
   "metadata": {},
   "outputs": [
    {
     "ename": "AttributeError",
     "evalue": "'Axes3DSubplot' object has no attribute 'plot3d'",
     "output_type": "error",
     "traceback": [
      "\u001b[0;31m---------------------------------------------------------------------------\u001b[0m",
      "\u001b[0;31mAttributeError\u001b[0m                            Traceback (most recent call last)",
      "\u001b[0;32m<ipython-input-55-049f00245c5d>\u001b[0m in \u001b[0;36m<module>\u001b[0;34m\u001b[0m\n\u001b[0;32m----> 1\u001b[0;31m \u001b[0mplotpic\u001b[0m\u001b[0;34m(\u001b[0m\u001b[0ma\u001b[0m\u001b[0;34m,\u001b[0m\u001b[0mb\u001b[0m\u001b[0;34m,\u001b[0m\u001b[0mW\u001b[0m\u001b[0;34m)\u001b[0m\u001b[0;34m\u001b[0m\u001b[0;34m\u001b[0m\u001b[0m\n\u001b[0m",
      "\u001b[0;32m<ipython-input-53-917b165408a7>\u001b[0m in \u001b[0;36mplotpic\u001b[0;34m(a, b, W)\u001b[0m\n\u001b[1;32m      9\u001b[0m \u001b[0;34m\u001b[0m\u001b[0m\n\u001b[1;32m     10\u001b[0m     \u001b[0mZ\u001b[0m \u001b[0;34m=\u001b[0m \u001b[0;34m(\u001b[0m\u001b[0ma\u001b[0m\u001b[0;34m-\u001b[0m\u001b[0mW\u001b[0m\u001b[0;34m[\u001b[0m\u001b[0;36m0\u001b[0m\u001b[0;34m]\u001b[0m\u001b[0;34m)\u001b[0m\u001b[0;34m**\u001b[0m\u001b[0;36m2\u001b[0m\u001b[0;34m+\u001b[0m\u001b[0mb\u001b[0m\u001b[0;34m*\u001b[0m\u001b[0;34m(\u001b[0m\u001b[0mW\u001b[0m\u001b[0;34m[\u001b[0m\u001b[0;36m1\u001b[0m\u001b[0;34m]\u001b[0m\u001b[0;34m-\u001b[0m\u001b[0mW\u001b[0m\u001b[0;34m[\u001b[0m\u001b[0;36m0\u001b[0m\u001b[0;34m]\u001b[0m\u001b[0;34m**\u001b[0m\u001b[0;36m2\u001b[0m\u001b[0;34m)\u001b[0m\u001b[0;34m**\u001b[0m\u001b[0;36m2\u001b[0m\u001b[0;34m\u001b[0m\u001b[0;34m\u001b[0m\u001b[0m\n\u001b[0;32m---> 11\u001b[0;31m     \u001b[0max\u001b[0m\u001b[0;34m.\u001b[0m\u001b[0mplot3d\u001b[0m\u001b[0;34m(\u001b[0m\u001b[0mW\u001b[0m\u001b[0;34m[\u001b[0m\u001b[0;36m0\u001b[0m\u001b[0;34m]\u001b[0m\u001b[0;34m,\u001b[0m\u001b[0mW\u001b[0m\u001b[0;34m[\u001b[0m\u001b[0;36m1\u001b[0m\u001b[0;34m]\u001b[0m\u001b[0;34m,\u001b[0m\u001b[0mZ\u001b[0m\u001b[0;34m,\u001b[0m\u001b[0;34m\"-o\"\u001b[0m\u001b[0;34m)\u001b[0m\u001b[0;34m\u001b[0m\u001b[0;34m\u001b[0m\u001b[0m\n\u001b[0m",
      "\u001b[0;31mAttributeError\u001b[0m: 'Axes3DSubplot' object has no attribute 'plot3d'"
     ]
    },
    {
     "data": {
      "image/png": "[encoded data removed]",
      "text/plain": [
       "<Figure size 432x288 with 1 Axes>"
      ]
     },
     "metadata": {
      "needs_background": "light"
     },
     "output_type": "display_data"
    }
   ],
   "source": [
    "plotpic(a,b,W)"
   ]
  },
  {
   "cell_type": "code",
   "execution_count": null,
   "metadata": {},
   "outputs": [],
   "source": []
  }
 ],
 "metadata": {
  "kernelspec": {
   "display_name": "Python 3",
   "language": "python",
   "name": "python3"
  },
  "language_info": {
   "codemirror_mode": {
    "name": "ipython",
    "version": 3
   },
   "file_extension": ".py",
   "mimetype": "text/x-python",
   "name": "python",
   "nbconvert_exporter": "python",
   "pygments_lexer": "ipython3",
   "version": "3.7.9"
  }
 },
 "nbformat": 4,
 "nbformat_minor": 4
}
