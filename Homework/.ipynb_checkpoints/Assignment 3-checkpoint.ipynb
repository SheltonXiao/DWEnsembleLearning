{
 "cells": [
  {
   "cell_type": "markdown",
   "metadata": {},
   "source": [
    "# Assignmet 3\n",
    "author: SheltonXiao"
   ]
  },
  {
   "cell_type": "markdown",
   "metadata": {},
   "source": [
    "## 1 偏差和方差\n",
    "*请用一个具体的案例解释什么是偏差和方差*"
   ]
  },
  {
   "cell_type": "markdown",
   "metadata": {},
   "source": [
    "偏差指的是我们用于估计真实函数的模型，它的复杂程度可能小于真实函数，这种不对应会带入误差。而方差指的是，我们用于估计真实函数的数据，是真实函数的一个样本，不同样本带来的模型的差距，称为方差。       \n",
    "举一个具体案例，比如，我们在进行宝可梦进化后cp值的预测，假设这个真实的函数是$f(x)$，当我们使用线性回归函数（比$f(x)$要简单）来预测cp值，所造成的与真实数据的误差称为偏差；而假设所有的宝可梦有1000个（只是一个假设），而我们每次只拿10个的数据去训练模型来预测，这些训练得到的若干个模型与真实函数间的误差称为方差。"
   ]
  },
  {
   "cell_type": "markdown",
   "metadata": {},
   "source": [
    "## 2 偏差、方差和误差\n",
    "*偏差与方差和误差之间的关系*"
   ]
  },
  {
   "cell_type": "markdown",
   "metadata": {},
   "source": [
    "一般认为，模型的误差=偏差+方差。偏差度量的是单个模型的学习能力，而方差度量的是同一个模型在不同数据集上的稳定性。"
   ]
  },
  {
   "cell_type": "markdown",
   "metadata": {},
   "source": [
    "## 5 pca降维\n",
    "*如果使用pca降维前是一个三维的椭球，那么把该图形降维成二维是一个什么样的图形*"
   ]
  },
  {
   "cell_type": "markdown",
   "metadata": {},
   "source": [
    "pca的主要思想是通过最大投影方差对原始空间进行重构，因此降成二维应该是一个椭圆。"
   ]
  },
  {
   "cell_type": "markdown",
   "metadata": {},
   "source": [
    "## 8 实践题\n",
    "*尝试使用sklearn，对一组数据先进行特征的简化（使用三种方式），再使用回归模型，最后使用网格搜索调参，观察三种方法的优劣*"
   ]
  },
  {
   "cell_type": "markdown",
   "metadata": {},
   "source": [
    "还是用boston房价的数据"
   ]
  },
  {
   "cell_type": "code",
   "execution_count": 1,
   "metadata": {},
   "outputs": [],
   "source": [
    "import pandas as pd\n",
    "import numpy as np\n",
    "from sklearn.datasets import load_boston\n",
    "boston = load_boston()"
   ]
  },
  {
   "cell_type": "code",
   "execution_count": 2,
   "metadata": {},
   "outputs": [],
   "source": [
    "X = boston.data\n",
    "y = boston.target\n",
    "features = boston.feature_names\n",
    "boston_data = pd.DataFrame(X,columns=features)\n",
    "boston_data[\"Price\"] = y"
   ]
  },
  {
   "cell_type": "markdown",
   "metadata": {},
   "source": [
    "方法1：特征筛选"
   ]
  },
  {
   "cell_type": "code",
   "execution_count": 3,
   "metadata": {},
   "outputs": [],
   "source": [
    "import statsmodels.api as sm \n",
    "from statsmodels.formula.api import ols\n",
    "def forward_select(data,target):\n",
    "    variate=set(data.columns)  \n",
    "    variate.remove(target)  \n",
    "    selected=[]\n",
    "    current_score,best_new_score=float('inf'),float('inf')  \n",
    "\n",
    "    while variate:\n",
    "        aic_with_variate=[]\n",
    "        for candidate in variate:  \n",
    "            formula=\"{}~{}\".format(target,\"+\".join(selected+[candidate]))  \n",
    "            aic=ols(formula=formula,data=data).fit().aic  \n",
    "            aic_with_variate.append((aic,candidate))  \n",
    "        aic_with_variate.sort(reverse=True)  \n",
    "        best_new_score,best_candidate=aic_with_variate.pop()  \n",
    "        if current_score>best_new_score:  \n",
    "            variate.remove(best_candidate)  \n",
    "            selected.append(best_candidate)  \n",
    "            current_score=best_new_score  \n",
    "            print(\"aic is {},continuing!\".format(current_score))  \n",
    "        else:\n",
    "            print(\"for selection over!\")\n",
    "            break\n",
    "    formula=\"{}~{}\".format(target,\"+\".join(selected))  #最终的模型式子\n",
    "    print(\"final formula is {}\".format(formula))\n",
    "    return(selected)"
   ]
  },
  {
   "cell_type": "code",
   "execution_count": 4,
   "metadata": {},
   "outputs": [
    {
     "name": "stdout",
     "output_type": "stream",
     "text": [
      "aic is 3286.974956900157,continuing!\n",
      "aic is 3171.5423142992013,continuing!\n",
      "aic is 3114.0972674193326,continuing!\n",
      "aic is 3097.359044862759,continuing!\n",
      "aic is 3069.438633167217,continuing!\n",
      "aic is 3057.9390497191152,continuing!\n",
      "aic is 3048.438382711162,continuing!\n",
      "aic is 3042.274993098419,continuing!\n",
      "aic is 3040.154562175143,continuing!\n",
      "aic is 3032.0687017003256,continuing!\n",
      "aic is 3021.726387825062,continuing!\n",
      "for selection over!\n",
      "final formula is Price~LSTAT+RM+PTRATIO+DIS+NOX+CHAS+B+ZN+CRIM+RAD+TAX\n"
     ]
    }
   ],
   "source": [
    "select = forward_select(data=boston_data,target=\"Price\")"
   ]
  },
  {
   "cell_type": "code",
   "execution_count": 23,
   "metadata": {},
   "outputs": [],
   "source": [
    "X_1 = np.array(boston_data[select])"
   ]
  },
  {
   "cell_type": "markdown",
   "metadata": {},
   "source": [
    "方法2：Lasso回归，L1正则化"
   ]
  },
  {
   "cell_type": "code",
   "execution_count": 6,
   "metadata": {},
   "outputs": [
    {
     "data": {
      "text/plain": [
       "Lasso(alpha=0.5)"
      ]
     },
     "execution_count": 6,
     "metadata": {},
     "output_type": "execute_result"
    }
   ],
   "source": [
    "from sklearn import linear_model\n",
    "reg_lasso = linear_model.Lasso(alpha = 0.5)\n",
    "reg_lasso.fit(X,y)"
   ]
  },
  {
   "cell_type": "markdown",
   "metadata": {},
   "source": [
    "取大于等于0.005的特征"
   ]
  },
  {
   "cell_type": "code",
   "execution_count": 22,
   "metadata": {},
   "outputs": [],
   "source": [
    "X_2 = X[:,np.abs(reg_lasso.coef_)>0.005]"
   ]
  },
  {
   "cell_type": "markdown",
   "metadata": {},
   "source": [
    "方法3：PCA降维"
   ]
  },
  {
   "cell_type": "code",
   "execution_count": 28,
   "metadata": {},
   "outputs": [
    {
     "data": {
      "text/plain": [
       "PCA(n_components=4)"
      ]
     },
     "execution_count": 28,
     "metadata": {},
     "output_type": "execute_result"
    }
   ],
   "source": [
    "from sklearn.decomposition import PCA\n",
    "pca = PCA(n_components=4)\n",
    "pca.fit(X)"
   ]
  },
  {
   "cell_type": "code",
   "execution_count": 29,
   "metadata": {},
   "outputs": [
    {
     "data": {
      "text/plain": [
       "array([0.80582318, 0.16305197, 0.02134861, 0.00695699])"
      ]
     },
     "execution_count": 29,
     "metadata": {},
     "output_type": "execute_result"
    }
   ],
   "source": [
    "pca.explained_variance_ratio_"
   ]
  },
  {
   "cell_type": "code",
   "execution_count": 30,
   "metadata": {},
   "outputs": [],
   "source": [
    "X_3 = pca.transform(X)"
   ]
  },
  {
   "cell_type": "markdown",
   "metadata": {},
   "source": [
    "我们使用SVR模型进行回归"
   ]
  },
  {
   "cell_type": "code",
   "execution_count": 31,
   "metadata": {},
   "outputs": [],
   "source": [
    "from sklearn.svm import SVR\n",
    "from sklearn.pipeline import make_pipeline\n",
    "from sklearn.pipeline import Pipeline\n",
    "from sklearn.preprocessing import StandardScaler\n",
    "from sklearn.model_selection import GridSearchCV \n",
    "from sklearn.model_selection import cross_val_score"
   ]
  },
  {
   "cell_type": "code",
   "execution_count": 34,
   "metadata": {},
   "outputs": [],
   "source": [
    "pipe_svr = Pipeline([(\"StandardScaler\",StandardScaler()),\n",
    "                     (\"svr\",SVR())])\n",
    "param_range = [0.0001,0.001,0.01,0.1,1.0,10.0,100.0,1000.0]\n",
    "param_grid = [{\"svr__C\":param_range,\"svr__kernel\":[\"linear\"]},\n",
    "              {\"svr__C\":param_range,\"svr__gamma\":param_range,\n",
    "               \"svr__kernel\":[\"rbf\"]}]"
   ]
  },
  {
   "cell_type": "code",
   "execution_count": 36,
   "metadata": {},
   "outputs": [],
   "source": [
    "gs_1 = GridSearchCV(estimator=pipe_svr,\n",
    "                  param_grid = param_grid,\n",
    "                  scoring = 'r2',\n",
    "                  cv = 10) "
   ]
  },
  {
   "cell_type": "code",
   "execution_count": 37,
   "metadata": {},
   "outputs": [
    {
     "name": "stdout",
     "output_type": "stream",
     "text": [
      "方法1网格搜索最优得分： 0.6125173398590678\n",
      "网格搜索最优参数组合：\n",
      " {'svr__C': 1000.0, 'svr__gamma': 0.001, 'svr__kernel': 'rbf'}\n"
     ]
    }
   ],
   "source": [
    "gs_1 = gs_1.fit(X_1,y)\n",
    "print(\"方法1网格搜索最优得分：\",gs_1.best_score_)\n",
    "print(\"网格搜索最优参数组合：\\n\",gs_1.best_params_)"
   ]
  },
  {
   "cell_type": "code",
   "execution_count": 38,
   "metadata": {},
   "outputs": [],
   "source": [
    "gs_2 = GridSearchCV(estimator=pipe_svr,\n",
    "                  param_grid = param_grid,\n",
    "                  scoring = 'r2',\n",
    "                  cv = 10) "
   ]
  },
  {
   "cell_type": "code",
   "execution_count": 39,
   "metadata": {},
   "outputs": [
    {
     "name": "stdout",
     "output_type": "stream",
     "text": [
      "方法2网格搜索最优得分： 0.6022099687344665\n",
      "网格搜索最优参数组合：\n",
      " {'svr__C': 1000.0, 'svr__gamma': 0.001, 'svr__kernel': 'rbf'}\n"
     ]
    }
   ],
   "source": [
    "gs_2 = gs_2.fit(X_2,y)\n",
    "print(\"方法2网格搜索最优得分：\",gs_2.best_score_)\n",
    "print(\"网格搜索最优参数组合：\\n\",gs_2.best_params_)"
   ]
  },
  {
   "cell_type": "code",
   "execution_count": 40,
   "metadata": {},
   "outputs": [],
   "source": [
    "gs_3 = GridSearchCV(estimator=pipe_svr,\n",
    "                  param_grid = param_grid,\n",
    "                  scoring = 'r2',\n",
    "                  cv = 10) "
   ]
  },
  {
   "cell_type": "code",
   "execution_count": 41,
   "metadata": {},
   "outputs": [
    {
     "name": "stdout",
     "output_type": "stream",
     "text": [
      "方法3网格搜索最优得分： -0.25615640268448747\n",
      "网格搜索最优参数组合：\n",
      " {'svr__C': 1000.0, 'svr__kernel': 'linear'}\n"
     ]
    }
   ],
   "source": [
    "gs_3 = gs_3.fit(X_3,y)\n",
    "print(\"方法3网格搜索最优得分：\",gs_3.best_score_)\n",
    "print(\"网格搜索最优参数组合：\\n\",gs_3.best_params_)"
   ]
  }
 ],
 "metadata": {
  "kernelspec": {
   "display_name": "Python 3",
   "language": "python",
   "name": "python3"
  },
  "language_info": {
   "codemirror_mode": {
    "name": "ipython",
    "version": 3
   },
   "file_extension": ".py",
   "mimetype": "text/x-python",
   "name": "python",
   "nbconvert_exporter": "python",
   "pygments_lexer": "ipython3",
   "version": "3.7.3"
  }
 },
 "nbformat": 4,
 "nbformat_minor": 4
}
