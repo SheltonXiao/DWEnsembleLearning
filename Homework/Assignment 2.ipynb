{
 "cells": [
  {
   "cell_type": "markdown",
   "metadata": {},
   "source": [
    "# 2 回归问题\n",
    "author：Tong"
   ]
  },
  {
   "cell_type": "markdown",
   "metadata": {},
   "source": [
    "### 2.1 线性回归\n",
    "***请详细阐述线性回归模型的最小二乘法表达***"
   ]
  },
  {
   "cell_type": "markdown",
   "metadata": {},
   "source": [
    "其实就是对数据集$D = \\{(x_1,y_1),...,(x_N,y_N) \\}$，$x_i \\in R^p,y_i \\in R,i = 1,2,...,N$，$X = (x_1,x_2,...,x_N)^T,Y=(y_1,y_2,...,y_N)^T$                        \n",
    "要拟合X和Y之间的线性关系$\\hat{y}=f(w) =w^Tx$。     \n",
    "而最佳的拟合应该是满足二范数的平方和$\\sum\\limits_{i=1}^{N}||w^Tx_i-y_i||_2^2$最小的。    \n",
    "也就是说线性回归模型，就是找到现有数据点的最小二乘拟合。"
   ]
  },
  {
   "cell_type": "markdown",
   "metadata": {},
   "source": [
    "### 2.3 多项式回归\n",
    "***为什么多项式回归在实际问题中的表现经常不是很好***"
   ]
  },
  {
   "cell_type": "markdown",
   "metadata": {},
   "source": [
    "因为实际问题中数据特征之间很多是相关的，多项式回归不能很好地处理此类问题。而且当阶数增加后，多项式回归的稳定性会下降。"
   ]
  },
  {
   "cell_type": "markdown",
   "metadata": {},
   "source": [
    "### 2.4 决策树模型\n",
    "***决策树模型与线性模型之间的区别与联系***"
   ]
  },
  {
   "cell_type": "markdown",
   "metadata": {},
   "source": [
    "![jupyter](./pic/1.9.1.png)       \n",
    "上面这张图很好地展现了线性模型（左）与决策树模型（右）的区别和联系。他们同样都是在变量空间内进行直线切割，但是决策树模型是对单一变量进行切割，会切很多刀；线性模型则是对变量综合进行切割，且只切一刀。在图像上体现为决策树的分界线都是与坐标轴平行/垂直的，而线性模型的不是。"
   ]
  },
  {
   "cell_type": "markdown",
   "metadata": {},
   "source": [
    "### 2.5 KKT条件\n",
    "***什么是KKT条件***"
   ]
  },
  {
   "cell_type": "markdown",
   "metadata": {},
   "source": [
    "Karush-Kuhn-Tucker (KKT)条件是非线性规划(nonlinear programming)最佳解的必要条件。KKT条件将Lagrange乘数法(Lagrange multipliers)所处理涉及等式的约束优化问题推广至不等式。     \n",
    "有一个约束优化问题(P)：                   \n",
    "      $$\n",
    "      min f(x)  \\\\\n",
    "      s.t.\\;\\;\\;g_i(x) \\le 0,\\; i=1,2,...,m\\\\\n",
    "      \\;\\;\\;\\;\\; h_j(x) = 0,\\; j=1,2,...,l\n",
    "      $$                         \n",
    "   我们假设$x^*$为满足以上条件的局部最优解，$p^* = f(x^*)$，我们的目的就是要找到$x^*$与$p^*$，满足不等式和等式约束的x集合成为可行域，记作S。     \n",
    "我们考虑：($x^*$为我们的最优解)               \n",
    "$$\n",
    "minf(x)\\\\\n",
    "s.t.\\;g_1(x) \\le 0,\\;x \\in R^n\\\\\n",
    "\\;\\;\\;g_2(x) \\le 0\\\\\n",
    "\\;\\;\\;g_3(x) \\le 0\n",
    "$$\n",
    "KKT条件就是：假设$x^*$为最优化问题的局部最优解，且$x^*$ 在某个适当的条件下 ,有：                             \n",
    "$$\n",
    "\\nabla f(x^*) + \\sum\\limits_{i=1}^{m}\\lambda_i \\nabla g(x^*) + \\sum\\limits_{j=1}^{l}\\mu_j \\nabla h_j(x^*) = 0\\\\     \n",
    "\\lambda_i \\ge 0,\\;i = 1,2,...,m\\\\\n",
    "g_i(x^*) \\le 0\\\\\n",
    "h_j(x^*) = 0\\\\\n",
    "\\lambda_i g(x^*) = 0\n",
    "$$      \n",
    "\n",
    "[Karush-Kuhn-Tucker (KKT)条件](https://zhuanlan.zhihu.com/p/38163970)"
   ]
  },
  {
   "cell_type": "markdown",
   "metadata": {},
   "source": [
    "### 2.7 代码实践\n",
    "***使用ch1机器学习数学基础所学的内容，找到一个具体的数据集，使用线性回归模型拟合模型，要求不能使用sklearn，只能使用python与numpy***"
   ]
  },
  {
   "cell_type": "code",
   "execution_count": 1,
   "metadata": {},
   "outputs": [],
   "source": [
    "import numpy as np"
   ]
  },
  {
   "cell_type": "code",
   "execution_count": 63,
   "metadata": {},
   "outputs": [],
   "source": [
    "def compute_error(x, y, a, b):\n",
    "    totalError = (y - (np.dot(x,a) + b.T)) ** 2\n",
    "    totalError = np.sum(totalError, axis=0)\n",
    "    results = totalError / float(len(data))\n",
    "    return results"
   ]
  },
  {
   "cell_type": "code",
   "execution_count": 3,
   "metadata": {},
   "outputs": [],
   "source": [
    "def leastsq_function(x,y):\n",
    "    # 单变量时的最小二乘法\n",
    "    n = len(x)\n",
    "    sumX = x.sum(axis = 0)\n",
    "    sumY = y.sum(axis = 0)\n",
    "    sumXY = x*y.sum(axis = 0)\n",
    "    sumXX = x*x.sum(axis = 0)\n",
    "    a = (sumXY - (1/n) * (sumX * sumY)) / (sumXX - (1/n) * sumX * sumX)\n",
    "    b = sumY/n - a * sumX/n\n",
    "    return a, b"
   ]
  },
  {
   "cell_type": "markdown",
   "metadata": {},
   "source": [
    "多变量时的最小二乘法"
   ]
  },
  {
   "cell_type": "markdown",
   "metadata": {},
   "source": [
    "调用numpy的最小二乘函数"
   ]
  },
  {
   "cell_type": "code",
   "execution_count": 60,
   "metadata": {},
   "outputs": [],
   "source": [
    "def multi_leastsq_function(x,y):\n",
    "    A = np.hstack([x, np.ones((len(x),1))])\n",
    "    W = np.linalg.lstsq(A, y, rcond=None)[0]\n",
    "    a = W[:-1]\n",
    "    b = W[-1]\n",
    "    return a,b"
   ]
  },
  {
   "cell_type": "markdown",
   "metadata": {},
   "source": [
    "使用矩阵运算      \n",
    "要找到最合适的$W$        \n",
    "$$\n",
    "WA = y\n",
    "$$    \n",
    "则满足\n",
    "$$\n",
    "W = (A^T A)^{-1} A^T y\n",
    "$$      "
   ]
  },
  {
   "cell_type": "code",
   "execution_count": 91,
   "metadata": {},
   "outputs": [],
   "source": [
    "def multi_leastsq_function_matrix(x,y):\n",
    "    A = np.hstack([x, np.ones((len(x),1))])\n",
    "    W = np.dot(np.dot(np.linalg.inv(np.dot(A.T,A)),A.T),y[:,np.newaxis])\n",
    "    W = W.flatten()\n",
    "    a = W[:-1]\n",
    "    b = W[-1]\n",
    "    return a,b"
   ]
  },
  {
   "cell_type": "markdown",
   "metadata": {},
   "source": [
    "使用波士顿房价数据集"
   ]
  },
  {
   "cell_type": "code",
   "execution_count": 4,
   "metadata": {},
   "outputs": [],
   "source": [
    "import pandas as pd"
   ]
  },
  {
   "cell_type": "code",
   "execution_count": 8,
   "metadata": {},
   "outputs": [],
   "source": [
    "from sklearn.datasets import load_boston\n",
    "boston = load_boston()"
   ]
  },
  {
   "cell_type": "code",
   "execution_count": 10,
   "metadata": {},
   "outputs": [],
   "source": [
    "X = boston.data\n",
    "y = boston.target"
   ]
  },
  {
   "cell_type": "code",
   "execution_count": 77,
   "metadata": {},
   "outputs": [],
   "source": [
    "a, b = multi_leastsq_function(X,y)"
   ]
  },
  {
   "cell_type": "code",
   "execution_count": 78,
   "metadata": {},
   "outputs": [
    {
     "data": {
      "text/plain": [
       "array([-1.08011358e-01,  4.64204584e-02,  2.05586264e-02,  2.68673382e+00,\n",
       "       -1.77666112e+01,  3.80986521e+00,  6.92224640e-04, -1.47556685e+00,\n",
       "        3.06049479e-01, -1.23345939e-02, -9.52747232e-01,  9.31168327e-03,\n",
       "       -5.24758378e-01])"
      ]
     },
     "execution_count": 78,
     "metadata": {},
     "output_type": "execute_result"
    }
   ],
   "source": [
    "a"
   ]
  },
  {
   "cell_type": "code",
   "execution_count": 64,
   "metadata": {},
   "outputs": [
    {
     "data": {
      "text/plain": [
       "21.894831181729206"
      ]
     },
     "execution_count": 64,
     "metadata": {},
     "output_type": "execute_result"
    }
   ],
   "source": [
    "compute_error(X, y, a, b)"
   ]
  },
  {
   "cell_type": "code",
   "execution_count": 92,
   "metadata": {},
   "outputs": [],
   "source": [
    "a, b = multi_leastsq_function_matrix(X,y)"
   ]
  },
  {
   "cell_type": "code",
   "execution_count": 93,
   "metadata": {},
   "outputs": [
    {
     "data": {
      "text/plain": [
       "array([-1.08011358e-01,  4.64204584e-02,  2.05586264e-02,  2.68673382e+00,\n",
       "       -1.77666112e+01,  3.80986521e+00,  6.92224640e-04, -1.47556685e+00,\n",
       "        3.06049479e-01, -1.23345939e-02, -9.52747232e-01,  9.31168327e-03,\n",
       "       -5.24758378e-01])"
      ]
     },
     "execution_count": 93,
     "metadata": {},
     "output_type": "execute_result"
    }
   ],
   "source": [
    "a"
   ]
  },
  {
   "cell_type": "code",
   "execution_count": 94,
   "metadata": {},
   "outputs": [
    {
     "data": {
      "text/plain": [
       "21.894831181729206"
      ]
     },
     "execution_count": 94,
     "metadata": {},
     "output_type": "execute_result"
    }
   ],
   "source": [
    "compute_error(X, y, a, b)"
   ]
  },
  {
   "cell_type": "markdown",
   "metadata": {},
   "source": [
    "可以看到两个方法得出的结果是一样的"
   ]
  }
 ],
 "metadata": {
  "kernelspec": {
   "display_name": "Python 3",
   "language": "python",
   "name": "python3"
  },
  "language_info": {
   "codemirror_mode": {
    "name": "ipython",
    "version": 3
   },
   "file_extension": ".py",
   "mimetype": "text/x-python",
   "name": "python",
   "nbconvert_exporter": "python",
   "pygments_lexer": "ipython3",
   "version": "3.7.3"
  }
 },
 "nbformat": 4,
 "nbformat_minor": 4
}
